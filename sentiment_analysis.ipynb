{
 "cells": [
  {
   "cell_type": "markdown",
   "metadata": {},
   "source": [
    "# Sentiment Analysis\n",
    "\n",
    "_Artificial Intelligence Nanodegree Program | Natural Language Processing_\n",
    "\n",
    "---\n",
    "\n",
    "With the rise of online social media platforms like Twitter, Facebook and Reddit, and the proliferation of customer reviews on sites like Amazon and Yelp, we now have access, more than ever before, to massive text-based data sets! They can be analyzed in order to determine how large portions of the population feel about certain products, events, etc. This sort of analysis is called _sentiment analysis_. In this notebook you will build an end-to-end sentiment classification system from scratch.\n",
    "\n",
    "## Instructions\n",
    "\n",
    "Some template code has already been provided for you, and you will need to implement additional functionality to successfully complete this notebook. You will not need to modify the included code beyond what is requested. Sections that begin with '**TODO**' in the header indicate that you need to complete or implement some portion within them. Instructions will be provided for each section and the specifics of the implementation are marked in the code block with a `# TODO: ...` comment. Please be sure to read the instructions carefully!\n",
    "\n",
    "In addition to implementing code, there will be questions for you to answer which relate to the task and your implementation. Each section where you will answer a question is preceded by a '**Question:**' header. Carefully read each question and provide your answer below the '**Answer:**' header by editing the Markdown cell.\n",
    "\n",
    "> **Note**: Code and Markdown cells can be executed using the **Shift+Enter** keyboard shortcut. In addition, a cell can be edited by typically clicking it (double-click for Markdown cells) or by pressing **Enter** while it is highlighted."
   ]
  },
  {
   "cell_type": "markdown",
   "metadata": {},
   "source": [
    "## Step 1: Exploring the data!\n",
    "\n",
    "The dataset we are going to use is very popular among researchers in Natural Language Processing, usually referred to as the [IMDb dataset](http://ai.stanford.edu/~amaas/data/sentiment/). It consists of movie reviews from the website [imdb.com](http://www.imdb.com/), each labeled as either '**pos**itive', if the reviewer enjoyed the film, or '**neg**ative' otherwise.\n",
    "\n",
    "> Maas, Andrew L., et al. [Learning Word Vectors for Sentiment Analysis](http://ai.stanford.edu/~amaas/data/sentiment/). In _Proceedings of the 49th Annual Meeting of the Association for Computational Linguistics: Human Language Technologies_. Association for Computational Linguistics, 2011.\n",
    "\n",
    "We have provided the dataset for you. You can load it in by executing the Python cell below."
   ]
  },
  {
   "cell_type": "code",
   "execution_count": 1,
   "metadata": {},
   "outputs": [
    {
     "name": "stdout",
     "output_type": "stream",
     "text": [
      "IMDb reviews: train = 12500 pos / 12500 neg, test = 12500 pos / 12500 neg\n"
     ]
    }
   ],
   "source": [
    "import os\n",
    "import glob\n",
    "\n",
    "def read_imdb_data(data_dir='data/imdb-reviews'):\n",
    "    \"\"\"Read IMDb movie reviews from given directory.\n",
    "    \n",
    "    Directory structure expected:\n",
    "    - data/\n",
    "        - train/\n",
    "            - pos/\n",
    "            - neg/\n",
    "        - test/\n",
    "            - pos/\n",
    "            - neg/\n",
    "    \n",
    "    \"\"\"\n",
    "\n",
    "    # Data, labels to be returned in nested dicts matching the dir. structure\n",
    "    data = {}\n",
    "    labels = {}\n",
    "\n",
    "    # Assume 2 sub-directories: train, test\n",
    "    for data_type in ['train', 'test']:\n",
    "        data[data_type] = {}\n",
    "        labels[data_type] = {}\n",
    "\n",
    "        # Assume 2 sub-directories for sentiment (label): pos, neg\n",
    "        for sentiment in ['pos', 'neg']:\n",
    "            data[data_type][sentiment] = []\n",
    "            labels[data_type][sentiment] = []\n",
    "            \n",
    "            # Fetch list of files for this sentiment\n",
    "            path = os.path.join(data_dir, data_type, sentiment, '*.txt')\n",
    "            files = glob.glob(path)\n",
    "            \n",
    "            # Read reviews data and assign labels\n",
    "            for f in files:\n",
    "                with open(f) as review:\n",
    "                    data[data_type][sentiment].append(review.read())\n",
    "                    labels[data_type][sentiment].append(sentiment)\n",
    "            \n",
    "            assert len(data[data_type][sentiment]) == len(labels[data_type][sentiment]), \\\n",
    "                    \"{}/{} data size does not match labels size\".format(data_type, sentiment)\n",
    "    \n",
    "    # Return data, labels as nested dicts\n",
    "    return data, labels\n",
    "\n",
    "\n",
    "data, labels = read_imdb_data()\n",
    "print(\"IMDb reviews: train = {} pos / {} neg, test = {} pos / {} neg\".format(\n",
    "        len(data['train']['pos']), len(data['train']['neg']),\n",
    "        len(data['test']['pos']), len(data['test']['neg'])))"
   ]
  },
  {
   "cell_type": "markdown",
   "metadata": {},
   "source": [
    "Now that the data is loaded in, let's take a quick look at one of the positive reviews:"
   ]
  },
  {
   "cell_type": "code",
   "execution_count": 2,
   "metadata": {},
   "outputs": [
    {
     "name": "stdout",
     "output_type": "stream",
     "text": [
      "This is truly the greatest Swedish movie of all time. Not only is it revolutionary in its narration, but its also among the first movies to feature the next generation of Swedish humor and Swedish comedians. Felix Herngren and Fredrik Lindström are two of the most intelligent and witty filmmakers in Sweden today, and this film really puts that on display.<br /><br />\"Vuxna människor\" (Adult People) is a warm-hearted and hilarious story about adulthood, and the question if we wouldn´t be better off without it.\n"
     ]
    }
   ],
   "source": [
    "print(data['train']['pos'][2])"
   ]
  },
  {
   "cell_type": "markdown",
   "metadata": {},
   "source": [
    "And one with a negative sentiment:"
   ]
  },
  {
   "cell_type": "code",
   "execution_count": 3,
   "metadata": {},
   "outputs": [
    {
     "name": "stdout",
     "output_type": "stream",
     "text": [
      "I got this in the DVD 10 pack CURSE OF THE DEAD. You gotta love those bargain packs. For even if they don't feature true remastering, restoration and all that hoo-ha, and the films are generally in full-frame pan and scan format, there's no denying that there are always a few gems included. And by \"gems\", I mean there's always some good crap to be seen, especially if the films are from the '70s as The Mansion of Madness is.<br /><br />My copy is called Mansion of Madness, but when the title screens roll it's Poe's Dr. Tarr's Torture Dungeon. Doesn't matter, really, as crap is crap is crap, no? Yes! But saying this film is completely worthless is not true at all. There are some funky elements here and there, and obviously the flick did have a decent budget.<br /><br />The opening title sequence is cool with its colored negative run through a cheap TV look. The dialogue is always hilarious. Near the beginning of the film, the horse and buggy driver gets out to move a dead tree stump in the middle of the road. \"WHAT STRENGTH!\" says Our Hero. Funny, then, that this dude should later not be able to fight off the wacky woodsmen when they come to make freaky fun. You'll completely forget that this guy was even in the movie until he crops up again later near the end. That's how memorable these characters are.<br /><br />The best part about Mansion of Madness, however, has to be the wacky music and screwball hijinks that the good guys have to endure. It's like bad cartoon music that a three year old would find enjoyable. And why all the weirdo slapstick, anyway? I'd say my fave moment had to be when the horse and buggy is ambushed by the forest freaks when they pull a stupid looking homemade ghost up by a stick in the middle of the road and make the buggy stop. What the hell? Oh yeah, there's plenty of boobies to be seen, too, for those of you that dig such things. Boobies, bad dialogue, and wacky music. That best sums of Mansion of Madness for me. It's well worth at least one viewing, and may be a lot better if you've had a few to drink or whatnot. I can't say I was ever bored watching it, but I can't deny that it's also a barrel of poop. Kinda like Magical Mystery Tour but with a plot, but not. Hmm.<br /><br />And Mr. Chicken PWNZ.\n"
     ]
    }
   ],
   "source": [
    "print(data['train']['neg'][2])"
   ]
  },
  {
   "cell_type": "markdown",
   "metadata": {},
   "source": [
    "We can also make a wordcloud visualization of the reviews."
   ]
  },
  {
   "cell_type": "code",
   "execution_count": 4,
   "metadata": {},
   "outputs": [
    {
     "data": {
      "image/png": "[encoded data removed]",
      "text/plain": [
       "<matplotlib.figure.Figure at 0x7f125e521e48>"
      ]
     },
     "metadata": {},
     "output_type": "display_data"
    }
   ],
   "source": [
    "import matplotlib.pyplot as plt\n",
    "%matplotlib inline\n",
    "\n",
    "from wordcloud import WordCloud, STOPWORDS\n",
    "\n",
    "sentiment = 'pos'\n",
    "\n",
    "# Combine all reviews for the desired sentiment\n",
    "combined_text = \" \".join([review for review in data['train'][sentiment]])\n",
    "\n",
    "# Initialize wordcloud object\n",
    "wc = WordCloud(background_color='white', max_words=50,\n",
    "        # update stopwords to include common words like film and movie\n",
    "        stopwords = STOPWORDS.update(['br','film','movie']))\n",
    "\n",
    "# Generate and plot wordcloud\n",
    "plt.imshow(wc.generate(combined_text))\n",
    "plt.axis('off')\n",
    "plt.show()"
   ]
  },
  {
   "cell_type": "markdown",
   "metadata": {},
   "source": [
    "Try changing the sentiment to `'neg'` and see if you can spot any obvious differences between the wordclouds."
   ]
  },
  {
   "cell_type": "code",
   "execution_count": 5,
   "metadata": {},
   "outputs": [
    {
     "data": {
      "image/png": "[encoded data removed]",
      "text/plain": [
       "<matplotlib.figure.Figure at 0x7f125e0aa6d8>"
      ]
     },
     "metadata": {},
     "output_type": "display_data"
    }
   ],
   "source": [
    "sentiment = 'neg'\n",
    "\n",
    "# Combine all reviews for the desired sentiment\n",
    "combined_text = \" \".join([review for review in data['train'][sentiment]])\n",
    "\n",
    "# Initialize wordcloud object\n",
    "wc = WordCloud(background_color='white', max_words=50,\n",
    "        # update stopwords to include common words like film and movie\n",
    "        stopwords = STOPWORDS.update(['br','film','movie']))\n",
    "\n",
    "# Generate and plot wordcloud\n",
    "plt.imshow(wc.generate(combined_text))\n",
    "plt.axis('off')\n",
    "plt.show()"
   ]
  },
  {
   "cell_type": "markdown",
   "metadata": {},
   "source": [
    "### TODO: Form training and test sets\n",
    "\n",
    "Now that you've seen what the raw data looks like, combine the positive and negative documents to get one unified training set and one unified test set."
   ]
  },
  {
   "cell_type": "code",
   "execution_count": 6,
   "metadata": {},
   "outputs": [
    {
     "name": "stdout",
     "output_type": "stream",
     "text": [
      "IMDb reviews (combined): train = 25000, test = 25000\n"
     ]
    }
   ],
   "source": [
    "from sklearn.utils import shuffle\n",
    "import numpy as np\n",
    "def prepare_imdb_data(data):\n",
    "    \"\"\"Prepare training and test sets from IMDb movie reviews.\"\"\"\n",
    "    # TODO: Combine positive and negative reviews and labels\n",
    "    pos_data = list(data['train']['pos'])\n",
    "    pos_data.extend(data['test']['pos'])\n",
    "    pos_labels = np.ones(len(pos_data), dtype=int).tolist()\n",
    "    \n",
    "    neg_data = list(data['train']['neg'])\n",
    "    neg_data.extend(data['test']['neg'])\n",
    "    neg_labels = np.zeros(len(neg_data), dtype=int).tolist()\n",
    "    \n",
    "    all_data = pos_data\n",
    "    all_data.extend(neg_data)\n",
    "    \n",
    "    all_labels = pos_labels\n",
    "    all_labels.extend(neg_labels)\n",
    "    \n",
    "    # TODO: Shuffle reviews and corresponding labels within training and test sets\n",
    "    all_data, all_labels = shuffle(all_data, all_labels)\n",
    "    \n",
    "    # Return a unified training data, test data, training labels, test labets\n",
    "    return all_data[0:len(all_data)//2], all_data[len(all_data)//2:], all_labels[0:len(all_data)//2], all_labels[len(all_data)//2:]\n",
    "\n",
    "\n",
    "data_train, data_test, labels_train, labels_test = prepare_imdb_data(data)\n",
    "print(\"IMDb reviews (combined): train = {}, test = {}\".format(len(data_train), len(data_test)))"
   ]
  },
  {
   "cell_type": "markdown",
   "metadata": {},
   "source": [
    "## Step 2. Preprocessing\n",
    "\n",
    "As you might have noticed in the sample reviews, our raw data includes HTML. Therefore there are HTML tags that need to be removed. We also need to remove non-letter characters, normalize uppercase letters by converting them to lowercase, tokenize, remove stop words, and stem the remaining words in each document.\n",
    "\n",
    "### TODO: Convert each review to words\n",
    "\n",
    "As your next task, you should complete the function `review_to_words()` that performs all these steps. For your convenience, in the Python cell below we provide you with all the libraries that you may need in order to accomplish these preprocessing steps. Make sure you can import all of them! (If not, pip install from a terminal and run/import again.)"
   ]
  },
  {
   "cell_type": "code",
   "execution_count": 7,
   "metadata": {},
   "outputs": [
    {
     "name": "stdout",
     "output_type": "stream",
     "text": [
      "[nltk_data] Downloading package stopwords to /root/nltk_data...\n",
      "[nltk_data]   Package stopwords is already up-to-date!\n"
     ]
    }
   ],
   "source": [
    "# BeautifulSoup to easily remove HTML tags\n",
    "from bs4 import BeautifulSoup \n",
    "\n",
    "# RegEx for removing non-letter characters\n",
    "import re\n",
    "\n",
    "# NLTK library for the remaining steps\n",
    "import nltk\n",
    "nltk.download(\"stopwords\")   # download list of stopwords (only once; need not run it again)\n",
    "from nltk.corpus import stopwords # import stopwords\n",
    "\n",
    "from nltk.stem.porter import *\n",
    "stemmer = PorterStemmer()"
   ]
  },
  {
   "cell_type": "code",
   "execution_count": 8,
   "metadata": {},
   "outputs": [
    {
     "data": {
      "text/plain": [
       "['test', 'test', 'would', 'make', 'great', 'movi', 'review']"
      ]
     },
     "execution_count": 8,
     "metadata": {},
     "output_type": "execute_result"
    }
   ],
   "source": [
    "from nltk.tokenize import sent_tokenize, word_tokenize\n",
    "\n",
    "def review_to_words(review):\n",
    "    \"\"\"Convert a raw review string into a sequence of words.\"\"\"\n",
    "    \n",
    "    # TODO: Remove HTML tags and non-letters,\n",
    "    #       convert to lowercase, tokenize,\n",
    "    #       remove stopwords and stem\n",
    "\n",
    "    # Return final list of words\n",
    "    soup = BeautifulSoup(review, 'html.parser')\n",
    "    text = soup.get_text().lower()\n",
    "    sents = sent_tokenize(text)\n",
    "    words = []\n",
    "    \n",
    "    stop_words = set(stopwords.words('english'))\n",
    "    for sent in sents:\n",
    "        data = word_tokenize(sent)\n",
    "        for word in data:\n",
    "            if word.isalpha():\n",
    "                if word not in stop_words:\n",
    "                    words.append(stemmer.stem(word))\n",
    "    \n",
    "    return words\n",
    "\n",
    "\n",
    "review_to_words(\"\"\"This is just a <em>test</em>.<br/><br />\n",
    "But if it wasn't a test, it would make for a <b>Great</b> movie review!\"\"\")"
   ]
  },
  {
   "cell_type": "markdown",
   "metadata": {},
   "source": [
    "With the function `review_to_words()` fully implemeneted, we can apply it to all reviews in both training and test datasets. This may take a while, so let's build in a mechanism to write to a cache file and retrieve from it later."
   ]
  },
  {
   "cell_type": "code",
   "execution_count": 9,
   "metadata": {},
   "outputs": [
    {
     "name": "stdout",
     "output_type": "stream",
     "text": [
      "Wrote preprocessed data to cache file: preprocessed_data.pkl\n",
      "\n",
      "--- Raw review ---\n",
      "A team of amateur journalists and tree-huggers catches wind of a secret government project, Project Carnivore, on a remote South Pacific island. The scientists there are producing giant-sized corn, but the genes are spreading to other species, creating abnormally large Komodo dragons and a cobra (one that's bullet-proof and swims underwater). With the help of the scientist's daughter, can they escape the island and tell the world? Even if i hadn't seen this film on the Sci-Fi Channel (which, sadly, i did) it would scream \"Sci-Fi Channel\" with its low production value, weak acting and some of the worst special effects in history. The effects here are comparable to another creature film, \"Raptor Island\", although not nearly as bad. I would suspect that there must be at least a handful of people that worked on both films, but I haven't bothered to confirm that and probably won't. It will be a sad day when I see either of them films again.<br /><br />Which is not to say it's not enjoyable. I watched it at two in the morning with my sister's boyfriend and I can't speak for him, but I thought it was a pretty good use of time. As bad the whole thing is, it's a fun picture if you like to make fun of movies and the scientist's daughter is attractive enough to carry the film (I believe the actress' name is Michelle Borth). Michael Pare also appears as a ship captain, and his poor choice of roles here actually makes his work on \"Furnace\" look respectable (even if that movie is intolerably bad).<br /><br />I can't be too hard on this film simply because it was more or less exactly what I thought it would be. Bad effects? Low budget? No-name actors? I didn't have any higher hopes. Yet, this doesn't mean that it's awesome, either. Coming in at par is nothing to be proud of and this one will slowly fade into the distant memory department. For the one fan who likes this film (and calls it \"KvC\"), hold on to your copy because you'll have a heck of a time getting a replacement.\n",
      "\n",
      "--- Preprocessed words ---\n",
      "['team', 'amateur', 'journalist', 'catch', 'wind', 'secret', 'govern', 'project', 'project', 'carnivor', 'remot', 'south', 'pacif', 'island', 'scientist', 'produc', 'corn', 'gene', 'spread', 'speci', 'creat', 'abnorm', 'larg', 'komodo', 'dragon', 'cobra', 'one', 'swim', 'underwat', 'help', 'scientist', 'daughter', 'escap', 'island', 'tell', 'world', 'even', 'seen', 'film', 'channel', 'sadli', 'would', 'scream', 'channel', 'low', 'product', 'valu', 'weak', 'act', 'worst', 'special', 'effect', 'histori', 'effect', 'compar', 'anoth', 'creatur', 'film', 'raptor', 'island', 'although', 'nearli', 'bad', 'would', 'suspect', 'must', 'least', 'hand', 'peopl', 'work', 'film', 'bother', 'confirm', 'probabl', 'wo', 'sad', 'day', 'see', 'either', 'film', 'say', 'enjoy', 'watch', 'two', 'morn', 'sister', 'boyfriend', 'ca', 'speak', 'thought', 'pretti', 'good', 'use', 'time', 'bad', 'whole', 'thing', 'fun', 'pictur', 'like', 'make', 'fun', 'movi', 'scientist', 'daughter', 'attract', 'enough', 'carri', 'film', 'believ', 'actress', 'name', 'michel', 'borth', 'michael', 'pare', 'also', 'appear', 'ship', 'captain', 'poor', 'choic', 'role', 'actual', 'make', 'work', 'furnac', 'look', 'respect', 'even', 'movi', 'intoler', 'bad', 'ca', 'hard', 'film', 'simpli', 'less', 'exactli', 'thought', 'would', 'bad', 'effect', 'low', 'budget', 'actor', 'higher', 'hope', 'yet', 'mean', 'awesom', 'either', 'come', 'par', 'noth', 'proud', 'one', 'slowli', 'fade', 'distant', 'memori', 'depart', 'one', 'fan', 'like', 'film', 'call', 'kvc', 'hold', 'copi', 'heck', 'time', 'get', 'replac']\n",
      "\n",
      "--- Label ---\n",
      "0\n"
     ]
    }
   ],
   "source": [
    "import pickle\n",
    "\n",
    "cache_dir = os.path.join(\"cache\", \"sentiment_analysis\")  # where to store cache files\n",
    "os.makedirs(cache_dir, exist_ok=True)  # ensure cache directory exists\n",
    "\n",
    "def preprocess_data(data_train, data_test, labels_train, labels_test,\n",
    "                    cache_dir=cache_dir, cache_file=\"preprocessed_data.pkl\"):\n",
    "    \"\"\"Convert each review to words; read from cache if available.\"\"\"\n",
    "\n",
    "    # If cache_file is not None, try to read from it first\n",
    "    cache_data = None\n",
    "    if cache_file is not None:\n",
    "        try:\n",
    "            with open(os.path.join(cache_dir, cache_file), \"rb\") as f:\n",
    "                cache_data = pickle.load(f)\n",
    "            print(\"Read preprocessed data from cache file:\", cache_file)\n",
    "        except:\n",
    "            pass  # unable to read from cache, but that's okay\n",
    "    \n",
    "    # If cache is missing, then do the heavy lifting\n",
    "    if cache_data is None:\n",
    "        # Preprocess training and test data to obtain words for each review\n",
    "        words_train = list(map(review_to_words, data_train))\n",
    "        words_test = list(map(review_to_words, data_test))\n",
    "        \n",
    "        # Write to cache file for future runs\n",
    "        if cache_file is not None:\n",
    "            cache_data = dict(words_train=words_train, words_test=words_test,\n",
    "                              labels_train=labels_train, labels_test=labels_test)\n",
    "            with open(os.path.join(cache_dir, cache_file), \"wb\") as f:\n",
    "                pickle.dump(cache_data, f)\n",
    "            print(\"Wrote preprocessed data to cache file:\", cache_file)\n",
    "    else:\n",
    "        # Unpack data loaded from cache file\n",
    "        words_train, words_test, labels_train, labels_test = (cache_data['words_train'],\n",
    "                cache_data['words_test'], cache_data['labels_train'], cache_data['labels_test'])\n",
    "    \n",
    "    return words_train, words_test, labels_train, labels_test\n",
    "\n",
    "\n",
    "# Preprocess data\n",
    "words_train, words_test, labels_train, labels_test = preprocess_data(\n",
    "        data_train, data_test, labels_train, labels_test)\n",
    "\n",
    "# Take a look at a sample\n",
    "print(\"\\n--- Raw review ---\")\n",
    "print(data_train[1])\n",
    "print(\"\\n--- Preprocessed words ---\")\n",
    "print(words_train[1])\n",
    "print(\"\\n--- Label ---\")\n",
    "print(labels_train[1])"
   ]
  },
  {
   "cell_type": "markdown",
   "metadata": {},
   "source": [
    "## Step 3: Extracting Bag-of-Words features\n",
    "\n",
    "Now that each document has been preprocessed, we can transform each into a Bag-of-Words feature representation. Note that we need to create this transformation based on the training data alone, as we are not allowed to peek at the testing data at all!\n",
    "\n",
    "The dictionary or _vocabulary_ $V$ (set of words shared by documents in the training set) used here will be the one on which we train our supervised learning algorithm. Any future test data must be transformed in the same way for us to be able to apply the learned model for prediction. Hence, it is important to store the transformation / vocabulary as well.\n",
    "\n",
    "> **Note**: The set of words in the training set may not be exactly the same as the test set. What do you do if you encounter a word during testing that you haven't seen before? Unfortunately, we'll have to ignore it, or replace it with a special `<UNK>` token.\n",
    "\n",
    "### TODO: Compute Bag-of-Words features\n",
    "\n",
    "Implement the `extract_BoW_features()` function, apply it to both training and test datasets, and store the results in `features_train` and `features_test` NumPy arrays, respectively. Choose a reasonable vocabulary size, say $|V| = 5000$, and keep only the top $|V|$ occuring words and discard the rest. This number will also serve as the number of columns in the BoW matrices.\n",
    "\n",
    "> **Hint**: You may find it useful to take advantage of `CountVectorizer` from scikit-learn. Also make sure to pickle your Bag-of-Words transformation so that you can use it in future."
   ]
  },
  {
   "cell_type": "code",
   "execution_count": 10,
   "metadata": {},
   "outputs": [
    {
     "name": "stdout",
     "output_type": "stream",
     "text": [
      "Wrote features to cache file: bow_features.pkl\n",
      "Vocabulary: 5000 words\n",
      "Sample words: ['nanci', 'ross', 'ethic', 'poverti', 'william', 'keaton', 'warm', 'brief']\n",
      "\n",
      "--- Preprocessed words ---\n",
      "['must', 'admit', 'big', 'fan', 'south', 'park', 'expect', 'basketbal', 'funni', 'nowher', 'near', 'good', 'turn', 'think', 'happen', 'mix', 'david', 'zucker', 'matt', 'stone', 'trey', 'parker', 'togeth', 'movi', 'much', 'replay', 'valu', 'point', 'bother', 'take', 'serious', 'slap', 'stick', 'style', 'humor', 'mix', 'stone', 'parker', 'work', 'flawlessli', 'kind', 'humor', 'present', 'basketbal', 'popular', 'upon', 'time', 'releas', 'come', 'today', 'would', 'hit', 'bother', 'tri', 'critic', 'leav', 'brain', 'door', 'expect', 'endless', 'laugh', 'come', 'recommend', 'anyon', 'good', 'sens', 'humor']\n",
      "\n",
      "--- Bag-of-Words features ---\n",
      "[0 0 0 ..., 0 0 0]\n",
      "\n",
      "--- Label ---\n",
      "1\n"
     ]
    }
   ],
   "source": [
    "import numpy as np\n",
    "from sklearn.feature_extraction.text import CountVectorizer\n",
    "from sklearn.externals import joblib\n",
    "# joblib is an enhanced version of pickle that is more efficient for storing NumPy arrays\n",
    "\n",
    "def extract_BoW_features(words_train, words_test, vocabulary_size=5000,\n",
    "                         cache_dir=cache_dir, cache_file=\"bow_features.pkl\"):\n",
    "    \"\"\"Extract Bag-of-Words for a given set of documents, already preprocessed into words.\"\"\"\n",
    "    \n",
    "    # If cache_file is not None, try to read from it first\n",
    "    cache_data = None\n",
    "    if cache_file is not None:\n",
    "        try:\n",
    "            with open(os.path.join(cache_dir, cache_file), \"rb\") as f:\n",
    "                cache_data = joblib.load(f)\n",
    "            print(\"Read features from cache file:\", cache_file)\n",
    "        except:\n",
    "            pass  # unable to read from cache, but that's okay\n",
    "    \n",
    "    # If cache is missing, then do the heavy lifting\n",
    "    if cache_data is None:\n",
    "        vectorizer = CountVectorizer(decode_error='ignore', max_features=vocabulary_size)\n",
    "        \n",
    "        features_train = vectorizer.fit_transform([\" \".join(item) for item in words_train]).toarray()\n",
    "        features_test = vectorizer.transform([\" \".join(item) for item in words_test]).toarray()\n",
    "               \n",
    "        # Write to cache file for future runs (store vocabulary as well)\n",
    "        if cache_file is not None:\n",
    "            vocabulary = vectorizer.vocabulary_\n",
    "            cache_data = dict(features_train=features_train, features_test=features_test,\n",
    "                             vocabulary=vocabulary)\n",
    "            with open(os.path.join(cache_dir, cache_file), \"wb\") as f:\n",
    "                joblib.dump(cache_data, f)\n",
    "            print(\"Wrote features to cache file:\", cache_file)\n",
    "    else:\n",
    "        # Unpack data loaded from cache file\n",
    "        features_train, features_test, vocabulary = (cache_data['features_train'],\n",
    "                cache_data['features_test'], cache_data['vocabulary'])\n",
    "    \n",
    "    # Return both the extracted features as well as the vocabulary\n",
    "    return features_train, features_test, vocabulary\n",
    "    \n",
    "#words_train, words_test = data_train, data_test   \n",
    "\n",
    "# Extract Bag of Words features for both training and test datasets\n",
    "features_train, features_test, vocabulary = extract_BoW_features(words_train, words_test)\n",
    "\n",
    "# Inspect the vocabulary that was computed\n",
    "print(\"Vocabulary: {} words\".format(len(vocabulary)))\n",
    "\n",
    "import random\n",
    "print(\"Sample words: {}\".format(random.sample(list(vocabulary.keys()), 8)))\n",
    "\n",
    "# Sample\n",
    "print(\"\\n--- Preprocessed words ---\")\n",
    "print(words_train[5])\n",
    "print(\"\\n--- Bag-of-Words features ---\")\n",
    "print(features_train[5])\n",
    "print(\"\\n--- Label ---\")\n",
    "print(labels_train[5])"
   ]
  },
  {
   "cell_type": "markdown",
   "metadata": {},
   "source": [
    "Let's try to visualize the Bag-of-Words feature vector for one of our training documents."
   ]
  },
  {
   "cell_type": "code",
   "execution_count": 11,
   "metadata": {},
   "outputs": [
    {
     "data": {
      "image/png": "[encoded data removed]",
      "text/plain": [
       "<matplotlib.figure.Figure at 0x7f1237613908>"
      ]
     },
     "metadata": {},
     "output_type": "display_data"
    }
   ],
   "source": [
    "# Plot the BoW feature vector for a training document\n",
    "plt.plot(features_train[5,:])\n",
    "plt.xlabel('Word')\n",
    "plt.ylabel('Count')\n",
    "plt.show()"
   ]
  },
  {
   "cell_type": "code",
   "execution_count": 28,
   "metadata": {},
   "outputs": [
    {
     "data": {
      "text/plain": [
       "98.41628879999999"
      ]
     },
     "execution_count": 28,
     "metadata": {},
     "output_type": "execute_result"
    }
   ],
   "source": [
    "# from : https://stackoverflow.com/questions/28663856/how-to-count-the-occurrence-of-certain-item-in-an-ndarray-in-python\n",
    "unique_, counts_ = np.unique(features_train, return_counts=True)\n",
    "counts = dict(zip(unique_, counts_))\n",
    "total = sum(counts.values())\n",
    "pct_zeros = counts[0] / total * 100\n",
    "pct_zeros"
   ]
  },
  {
   "cell_type": "markdown",
   "metadata": {},
   "source": [
    "#### Question: Reflecting on Bag-of-Words feature representation\n",
    "\n",
    "What is the average sparsity level of BoW vectors in our training set? In other words, on average what percentage of entries in a BoW feature vector are zero?\n",
    "\n",
    "#### Answer:\n",
    "\n",
    "98% of the BoW vectors are zeroes\n",
    "\n",
    "### Zipf's law\n",
    "\n",
    "[Zipf's law](https://en.wikipedia.org/wiki/Zipf%27s_law), named after the famous American linguist George Zipf, is an empirical law stating that given a large collection of documents, the frequency of any word is inversely proportional to its rank in the frequency table. So the most frequent word will occur about twice as often as the second most frequent word, three times as often as the third most frequent word, and so on. In the figure below we plot number of appearances of each word in our training set against its rank."
   ]
  },
  {
   "cell_type": "code",
   "execution_count": 29,
   "metadata": {},
   "outputs": [
    {
     "data": {
      "image/png": "[encoded data removed]",
      "text/plain": [
       "<matplotlib.figure.Figure at 0x7f12554c39b0>"
      ]
     },
     "metadata": {},
     "output_type": "display_data"
    }
   ],
   "source": [
    "# Find number of occurrences for each word in the training set\n",
    "word_freq = features_train.sum(axis=0)\n",
    "\n",
    "# Sort it in descending order\n",
    "sorted_word_freq = np.sort(word_freq)[::-1]\n",
    "\n",
    "# Plot \n",
    "plt.plot(sorted_word_freq)\n",
    "plt.gca().set_xscale('log')\n",
    "plt.gca().set_yscale('log')\n",
    "plt.xlabel('Rank')\n",
    "plt.ylabel('Number of occurrences')\n",
    "plt.show()"
   ]
  },
  {
   "cell_type": "markdown",
   "metadata": {},
   "source": [
    "#### Question: Zipf's law\n",
    "\n",
    "What is the total number of occurrences of the most frequent word? What is the the total number of occurrences of the second most frequent word? Do your numbers follow  Zipf's law? If not, why?\n",
    "\n",
    "#### Answer:\n",
    "\n",
    "...\n",
    "\n",
    "### TODO: Normalize feature vectors\n",
    "\n",
    "Bag-of-Words features are intuitive to understand as they are simply word counts. But counts can vary a lot, and potentially throw off learning algorithms later in the pipeline. So, before we proceed further, let's normalize the BoW feature vectors to have unit length.\n",
    "\n",
    "This makes sure that each document's representation retains the unique mixture of feature components, but prevents documents with large word counts from dominating those with fewer words."
   ]
  },
  {
   "cell_type": "code",
   "execution_count": 30,
   "metadata": {
    "collapsed": true
   },
   "outputs": [],
   "source": [
    "import sklearn.preprocessing as pr\n",
    "\n",
    "# TODO: Normalize BoW features in training and test set\n",
    "features_train = pr.normalize(features_train.astype('float64'))\n",
    "features_test = pr.normalize(features_test.astype('float64'))"
   ]
  },
  {
   "cell_type": "markdown",
   "metadata": {},
   "source": [
    "## Step 4: Classification using BoW features\n",
    "\n",
    "Now that the data has all been properly transformed, we can feed it into a classifier. To get a baseline model, we train a Naive Bayes classifier from scikit-learn (specifically, [`GaussianNB`](http://scikit-learn.org/stable/modules/generated/sklearn.naive_bayes.GaussianNB.html)), and evaluate its accuracy on the test set."
   ]
  },
  {
   "cell_type": "code",
   "execution_count": 32,
   "metadata": {},
   "outputs": [
    {
     "name": "stdout",
     "output_type": "stream",
     "text": [
      "[GaussianNB] Accuracy: train = 0.81764, test = 0.76916\n"
     ]
    }
   ],
   "source": [
    "from sklearn.naive_bayes import GaussianNB\n",
    "\n",
    "# TODO: Train a Guassian Naive Bayes classifier\n",
    "clf1 = GaussianNB().fit(features_train, labels_train)\n",
    "\n",
    "# Calculate the mean accuracy score on training and test sets\n",
    "print(\"[{}] Accuracy: train = {}, test = {}\".format(\n",
    "        clf1.__class__.__name__,\n",
    "        clf1.score(features_train, labels_train),\n",
    "        clf1.score(features_test, labels_test)))"
   ]
  },
  {
   "cell_type": "markdown",
   "metadata": {},
   "source": [
    "Tree-based algorithms often work quite well on Bag-of-Words as their highly discontinuous and sparse nature is nicely matched by the structure of trees. As your next task, you will try to improve on the Naive Bayes classifier's performance by using scikit-learn's Gradient-Boosted Decision Tree classifer.\n",
    "\n",
    "### TODO: Gradient-Boosted Decision Tree classifier\n",
    "\n",
    "Use [`GradientBoostingClassifier`](http://scikit-learn.org/stable/modules/generated/sklearn.ensemble.GradientBoostingClassifier.html) from scikit-learn to classify the BoW data. This model has a number of parameters. We use default parameters for some of them and pre-set the rest for you, except one: `n_estimators`. Find a proper value for this hyperparameter, use it to classify the data, and report how much improvement you get over Naive Bayes in terms of accuracy.\n",
    "\n",
    "> **Tip**: Use a model selection technique such as cross-validation, grid-search, or an information criterion method, to find an optimal value for the hyperparameter."
   ]
  },
  {
   "cell_type": "code",
   "execution_count": 34,
   "metadata": {},
   "outputs": [
    {
     "name": "stdout",
     "output_type": "stream",
     "text": [
      "training accuracy: 0.813440\n",
      "test accuracy: \t 0.803160\n"
     ]
    }
   ],
   "source": [
    "from sklearn.ensemble import GradientBoostingClassifier\n",
    "from sklearn.metrics import accuracy_score\n",
    "\n",
    "n_estimators = 50\n",
    "\n",
    "def classify_gboost(X_train, X_test, y_train, y_test):        \n",
    "    # Initialize classifier\n",
    "    clf = GradientBoostingClassifier(n_estimators=n_estimators, learning_rate=1.0, max_depth=1, random_state=0)\n",
    "\n",
    "    # TODO: Classify the data using GradientBoostingClassifier\n",
    "    clf.fit(X_train, y_train)\n",
    "    \n",
    "    # TODO(optional): Perform hyperparameter tuning / model selection\n",
    "    \n",
    "    # TODO: Print final training & test accuracy\n",
    "    pred_train = clf.predict(X_train)\n",
    "    pred_test = clf.predict(X_test)\n",
    "    acc_train = accuracy_score(pred_train, y_train)\n",
    "    acc_test = accuracy_score(pred_test, y_test)\n",
    "    \n",
    "    print(\"training accuracy: {:.6f}\".format(acc_train))\n",
    "    print(\"test accuracy: \\t {:.6f}\".format(acc_test))\n",
    "    \n",
    "    # Return best classifier model\n",
    "    return clf\n",
    "\n",
    "\n",
    "clf2 = classify_gboost(features_train, features_test, labels_train, labels_test)"
   ]
  },
  {
   "cell_type": "markdown",
   "metadata": {},
   "source": [
    "### TODO: Adverserial testing\n",
    "\n",
    "Write a short movie review to trick your machine learning model! That is, a movie review with a clear positive or negative sentiment that your model will classify incorrectly.\n",
    "\n",
    "> **Hint**: You might want to take advantage of the biggest weakness of the Bag-of-Words scheme!"
   ]
  },
  {
   "cell_type": "code",
   "execution_count": null,
   "metadata": {
    "collapsed": true
   },
   "outputs": [],
   "source": [
    "# TODO: Write a sample review and set its true sentiment\n",
    "my_review = \"...\"\n",
    "true_sentiment = ''  # sentiment must be 'pos' or 'neg'\n",
    "\n",
    "# TODO: Apply the same preprocessing and vectorizing steps as you did for your training data\n",
    "\n",
    "# TODO: Then call your classifier to label it\n"
   ]
  },
  {
   "cell_type": "markdown",
   "metadata": {},
   "source": [
    "## Step 5: Switching gears - RNNs\n",
    "\n",
    "We just saw how the task of sentiment analysis can be solved via a traditional machine learning approach: BoW + a nonlinear classifier. We now switch gears and use Recurrent Neural Networks, and in particular LSTMs, to perform sentiment analysis in Keras. Conveniently, Keras has a built-in [IMDb movie reviews dataset](https://keras.io/datasets/#imdb-movie-reviews-sentiment-classification) that we can use, with the same vocabulary size."
   ]
  },
  {
   "cell_type": "code",
   "execution_count": 35,
   "metadata": {},
   "outputs": [
    {
     "name": "stderr",
     "output_type": "stream",
     "text": [
      "Using TensorFlow backend.\n"
     ]
    },
    {
     "name": "stdout",
     "output_type": "stream",
     "text": [
      "Downloading data from https://s3.amazonaws.com/text-datasets/imdb.npz\n",
      "\n",
      "    8192/17464789 [..............................] - ETA: 14:31\n",
      "   24576/17464789 [..............................] - ETA: 9:41 \n",
      "   40960/17464789 [..............................] - ETA: 7:15\n",
      "   57344/17464789 [..............................] - ETA: 7:15\n",
      "   73728/17464789 [..............................] - ETA: 7:14\n",
      "   90112/17464789 [..............................] - ETA: 6:34\n",
      "  106496/17464789 [..............................] - ETA: 6:08\n",
      "  122880/17464789 [..............................] - ETA: 6:30\n",
      "  139264/17464789 [..............................] - ETA: 6:09\n",
      "  163840/17464789 [..............................] - ETA: 5:31\n",
      "  180224/17464789 [..............................] - ETA: 5:24\n",
      "  196608/17464789 [..............................] - ETA: 5:12\n",
      "  212992/17464789 [..............................] - ETA: 5:07\n",
      "  229376/17464789 [..............................] - ETA: 5:00\n",
      "  245760/17464789 [..............................] - ETA: 4:52\n",
      "  262144/17464789 [..............................] - ETA: 4:49\n",
      "  278528/17464789 [..............................] - ETA: 4:44\n",
      "  303104/17464789 [..............................] - ETA: 4:32\n",
      "  319488/17464789 [..............................] - ETA: 4:29\n",
      "  335872/17464789 [..............................] - ETA: 4:26\n",
      "  352256/17464789 [..............................] - ETA: 4:23\n",
      "  368640/17464789 [..............................] - ETA: 4:21\n",
      "  385024/17464789 [..............................] - ETA: 4:19\n",
      "  401408/17464789 [..............................] - ETA: 4:15\n",
      "  417792/17464789 [..............................] - ETA: 4:12\n",
      "  442368/17464789 [..............................] - ETA: 4:08\n",
      "  458752/17464789 [..............................] - ETA: 4:06\n",
      "  475136/17464789 [..............................] - ETA: 4:05\n",
      "  507904/17464789 [..............................] - ETA: 3:56\n",
      "  524288/17464789 [..............................] - ETA: 3:54\n",
      "  540672/17464789 [..............................] - ETA: 3:54\n",
      "  557056/17464789 [..............................] - ETA: 3:53\n",
      "  581632/17464789 [..............................] - ETA: 3:48\n",
      "  598016/17464789 [>.............................] - ETA: 3:48\n",
      "  630784/17464789 [>.............................] - ETA: 3:41\n",
      "  647168/17464789 [>.............................] - ETA: 3:40\n",
      "  663552/17464789 [>.............................] - ETA: 3:40\n",
      "  679936/17464789 [>.............................] - ETA: 3:40\n",
      "  712704/17464789 [>.............................] - ETA: 3:33\n",
      "  737280/17464789 [>.............................] - ETA: 3:31\n",
      "  770048/17464789 [>.............................] - ETA: 3:26\n",
      "  786432/17464789 [>.............................] - ETA: 3:26\n",
      "  819200/17464789 [>.............................] - ETA: 3:22\n",
      "  860160/17464789 [>.............................] - ETA: 3:15\n",
      "  892928/17464789 [>.............................] - ETA: 3:11\n",
      "  925696/17464789 [>.............................] - ETA: 3:08\n",
      "  958464/17464789 [>.............................] - ETA: 3:04\n",
      "  999424/17464789 [>.............................] - ETA: 2:59\n",
      " 1048576/17464789 [>.............................] - ETA: 2:54\n",
      " 1081344/17464789 [>.............................] - ETA: 2:52\n",
      " 1138688/17464789 [>.............................] - ETA: 2:45\n",
      " 1204224/17464789 [=>............................] - ETA: 2:39\n",
      " 1253376/17464789 [=>............................] - ETA: 2:34\n",
      " 1327104/17464789 [=>............................] - ETA: 2:27\n",
      " 1392640/17464789 [=>............................] - ETA: 2:23\n",
      " 1466368/17464789 [=>............................] - ETA: 2:17\n",
      " 1556480/17464789 [=>............................] - ETA: 2:10\n",
      " 1654784/17464789 [=>............................] - ETA: 2:04\n",
      " 1761280/17464789 [==>...........................] - ETA: 1:57\n",
      " 1867776/17464789 [==>...........................] - ETA: 1:52\n",
      " 1990656/17464789 [==>...........................] - ETA: 1:45\n",
      " 2113536/17464789 [==>...........................] - ETA: 1:40\n",
      " 2252800/17464789 [==>...........................] - ETA: 1:34\n",
      " 2408448/17464789 [===>..........................] - ETA: 1:28\n",
      " 2506752/17464789 [===>..........................] - ETA: 1:26\n",
      " 2703360/17464789 [===>..........................] - ETA: 1:19\n",
      " 2809856/17464789 [===>..........................] - ETA: 1:17\n",
      " 2859008/17464789 [===>..........................] - ETA: 1:16\n",
      " 2924544/17464789 [====>.........................] - ETA: 1:15\n",
      " 2998272/17464789 [====>.........................] - ETA: 1:14\n",
      " 3104768/17464789 [====>.........................] - ETA: 1:12\n",
      " 3203072/17464789 [====>.........................] - ETA: 1:10\n",
      " 3309568/17464789 [====>.........................] - ETA: 1:08\n",
      " 3432448/17464789 [====>.........................] - ETA: 1:06\n",
      " 3571712/17464789 [=====>........................] - ETA: 1:04\n",
      " 3710976/17464789 [=====>........................] - ETA: 1:01\n",
      " 3817472/17464789 [=====>........................] - ETA: 1:00\n",
      " 3833856/17464789 [=====>........................] - ETA: 1:00\n",
      " 4079616/17464789 [======>.......................] - ETA: 56s \n",
      " 4112384/17464789 [======>.......................] - ETA: 56s\n",
      " 4128768/17464789 [======>.......................] - ETA: 57s\n",
      " 4161536/17464789 [======>.......................] - ETA: 57s\n",
      " 4177920/17464789 [======>.......................] - ETA: 57s\n",
      " 4218880/17464789 [======>.......................] - ETA: 57s\n",
      " 4251648/17464789 [======>.......................] - ETA: 57s\n",
      " 4284416/17464789 [======>.......................] - ETA: 57s\n",
      " 4317184/17464789 [======>.......................] - ETA: 57s\n",
      " 4374528/17464789 [======>.......................] - ETA: 57s\n",
      " 4423680/17464789 [======>.......................] - ETA: 57s\n",
      " 4497408/17464789 [======>.......................] - ETA: 56s\n",
      " 4562944/17464789 [======>.......................] - ETA: 55s\n",
      " 4636672/17464789 [======>.......................] - ETA: 55s\n",
      " 4718592/17464789 [=======>......................] - ETA: 54s\n",
      " 4825088/17464789 [=======>......................] - ETA: 53s\n",
      " 4915200/17464789 [=======>......................] - ETA: 52s\n",
      " 5013504/17464789 [=======>......................] - ETA: 51s\n",
      " 5136384/17464789 [=======>......................] - ETA: 50s\n",
      " 5259264/17464789 [========>.....................] - ETA: 49s\n",
      " 5382144/17464789 [========>.....................] - ETA: 48s\n",
      " 5488640/17464789 [========>.....................] - ETA: 47s\n",
      " 5611520/17464789 [========>.....................] - ETA: 46s\n",
      " 5734400/17464789 [========>.....................] - ETA: 45s\n",
      " 5849088/17464789 [=========>....................] - ETA: 44s\n",
      " 5971968/17464789 [=========>....................] - ETA: 43s\n",
      " 6094848/17464789 [=========>....................] - ETA: 42s\n",
      " 6217728/17464789 [=========>....................] - ETA: 41s\n",
      " 6324224/17464789 [=========>....................] - ETA: 40s\n",
      " 6447104/17464789 [==========>...................] - ETA: 39s\n",
      " 6569984/17464789 [==========>...................] - ETA: 38s\n",
      " 6684672/17464789 [==========>...................] - ETA: 38s\n",
      " 6807552/17464789 [==========>...................] - ETA: 37s\n",
      " 6930432/17464789 [==========>...................] - ETA: 36s\n",
      " 7053312/17464789 [===========>..................] - ETA: 35s\n",
      " 7176192/17464789 [===========>..................] - ETA: 35s\n",
      " 7299072/17464789 [===========>..................] - ETA: 34s\n",
      " 7421952/17464789 [===========>..................] - ETA: 33s\n",
      " 7544832/17464789 [===========>..................] - ETA: 32s\n",
      " 7659520/17464789 [============>.................] - ETA: 32s\n",
      " 7798784/17464789 [============>.................] - ETA: 31s\n",
      " 7921664/17464789 [============>.................] - ETA: 30s\n",
      " 8044544/17464789 [============>.................] - ETA: 30s\n",
      " 8167424/17464789 [=============>................] - ETA: 29s\n",
      " 8290304/17464789 [=============>................] - ETA: 29s\n",
      " 8413184/17464789 [=============>................] - ETA: 28s\n",
      " 8552448/17464789 [=============>................] - ETA: 27s\n",
      " 8675328/17464789 [=============>................] - ETA: 27s\n",
      " 8798208/17464789 [==============>...............] - ETA: 26s\n",
      " 8912896/17464789 [==============>...............] - ETA: 26s\n",
      " 9052160/17464789 [==============>...............] - ETA: 25s\n"
     ]
    },
    {
     "name": "stdout",
     "output_type": "stream",
     "text": [
      " 9175040/17464789 [==============>...............] - ETA: 24s\n",
      " 9297920/17464789 [==============>...............] - ETA: 24s\n",
      " 9527296/17464789 [===============>..............] - ETA: 23s\n",
      " 9560064/17464789 [===============>..............] - ETA: 23s\n",
      " 9592832/17464789 [===============>..............] - ETA: 23s\n",
      " 9650176/17464789 [===============>..............] - ETA: 23s\n",
      " 9682944/17464789 [===============>..............] - ETA: 23s\n",
      " 9732096/17464789 [===============>..............] - ETA: 23s\n",
      " 9805824/17464789 [===============>..............] - ETA: 23s\n",
      " 9854976/17464789 [===============>..............] - ETA: 22s\n",
      " 9928704/17464789 [================>.............] - ETA: 22s\n",
      "10010624/17464789 [================>.............] - ETA: 22s\n",
      "10100736/17464789 [================>.............] - ETA: 22s\n",
      "10190848/17464789 [================>.............] - ETA: 21s\n",
      "10289152/17464789 [================>.............] - ETA: 21s\n",
      "10395648/17464789 [================>.............] - ETA: 21s\n",
      "10502144/17464789 [=================>............] - ETA: 20s\n",
      "10608640/17464789 [=================>............] - ETA: 20s\n",
      "10706944/17464789 [=================>............] - ETA: 19s\n",
      "10797056/17464789 [=================>............] - ETA: 19s\n",
      "10813440/17464789 [=================>............] - ETA: 19s\n",
      "10903552/17464789 [=================>............] - ETA: 19s\n",
      "11001856/17464789 [=================>............] - ETA: 18s\n",
      "11108352/17464789 [==================>...........] - ETA: 18s\n",
      "11214848/17464789 [==================>...........] - ETA: 18s\n",
      "11321344/17464789 [==================>...........] - ETA: 17s\n",
      "11419648/17464789 [==================>...........] - ETA: 17s\n",
      "11526144/17464789 [==================>...........] - ETA: 16s\n",
      "11632640/17464789 [==================>...........] - ETA: 16s\n",
      "11739136/17464789 [===================>..........] - ETA: 16s\n",
      "11837440/17464789 [===================>..........] - ETA: 15s\n",
      "11943936/17464789 [===================>..........] - ETA: 15s\n",
      "12050432/17464789 [===================>..........] - ETA: 15s\n",
      "12156928/17464789 [===================>..........] - ETA: 14s\n",
      "12255232/17464789 [====================>.........] - ETA: 14s\n",
      "12271616/17464789 [====================>.........] - ETA: 14s\n",
      "12378112/17464789 [====================>.........] - ETA: 14s\n",
      "12484608/17464789 [====================>.........] - ETA: 13s\n",
      "12591104/17464789 [====================>.........] - ETA: 13s\n",
      "12697600/17464789 [====================>.........] - ETA: 13s\n",
      "12795904/17464789 [====================>.........] - ETA: 12s\n",
      "12918784/17464789 [=====================>........] - ETA: 12s\n",
      "13025280/17464789 [=====================>........] - ETA: 12s\n",
      "13131776/17464789 [=====================>........] - ETA: 11s\n",
      "13320192/17464789 [=====================>........] - ETA: 11s\n",
      "13336576/17464789 [=====================>........] - ETA: 11s\n",
      "13352960/17464789 [=====================>........] - ETA: 11s\n",
      "13393920/17464789 [======================>.......] - ETA: 11s\n",
      "13426688/17464789 [======================>.......] - ETA: 11s\n",
      "13459456/17464789 [======================>.......] - ETA: 11s\n",
      "13492224/17464789 [======================>.......] - ETA: 11s\n",
      "13549568/17464789 [======================>.......] - ETA: 10s\n",
      "13582336/17464789 [======================>.......] - ETA: 10s\n",
      "13631488/17464789 [======================>.......] - ETA: 10s\n",
      "13688832/17464789 [======================>.......] - ETA: 10s\n",
      "13737984/17464789 [======================>.......] - ETA: 10s\n",
      "13811712/17464789 [======================>.......] - ETA: 10s\n",
      "13877248/17464789 [======================>.......] - ETA: 10s\n",
      "13967360/17464789 [======================>.......] - ETA: 9s \n",
      "14049280/17464789 [=======================>......] - ETA: 9s\n",
      "14139392/17464789 [=======================>......] - ETA: 9s\n",
      "14229504/17464789 [=======================>......] - ETA: 9s\n",
      "14311424/17464789 [=======================>......] - ETA: 8s\n",
      "14401536/17464789 [=======================>......] - ETA: 8s\n",
      "14483456/17464789 [=======================>......] - ETA: 8s\n",
      "14573568/17464789 [========================>.....] - ETA: 8s\n",
      "14663680/17464789 [========================>.....] - ETA: 7s\n",
      "14745600/17464789 [========================>.....] - ETA: 7s\n",
      "14835712/17464789 [========================>.....] - ETA: 7s\n",
      "14925824/17464789 [========================>.....] - ETA: 7s\n",
      "15024128/17464789 [========================>.....] - ETA: 6s\n",
      "15114240/17464789 [========================>.....] - ETA: 6s\n",
      "15204352/17464789 [=========================>....] - ETA: 6s\n",
      "15286272/17464789 [=========================>....] - ETA: 6s\n",
      "15376384/17464789 [=========================>....] - ETA: 5s\n",
      "15482880/17464789 [=========================>....] - ETA: 5s\n",
      "15564800/17464789 [=========================>....] - ETA: 5s\n",
      "15654912/17464789 [=========================>....] - ETA: 5s\n",
      "15736832/17464789 [==========================>...] - ETA: 4s\n",
      "15843328/17464789 [==========================>...] - ETA: 4s\n",
      "15933440/17464789 [==========================>...] - ETA: 4s\n",
      "16015360/17464789 [==========================>...] - ETA: 4s\n",
      "16105472/17464789 [==========================>...] - ETA: 3s\n",
      "16121856/17464789 [==========================>...] - ETA: 3s\n",
      "16211968/17464789 [==========================>...] - ETA: 3s\n",
      "16293888/17464789 [==========================>...] - ETA: 3s\n",
      "16400384/17464789 [===========================>..] - ETA: 2s\n",
      "16490496/17464789 [===========================>..] - ETA: 2s\n",
      "16596992/17464789 [===========================>..] - ETA: 2s\n",
      "16678912/17464789 [===========================>..] - ETA: 2s\n",
      "16785408/17464789 [===========================>..] - ETA: 1s\n",
      "16875520/17464789 [===========================>..] - ETA: 1s\n",
      "16973824/17464789 [============================>.] - ETA: 1s\n",
      "17063936/17464789 [============================>.] - ETA: 1s\n",
      "17170432/17464789 [============================>.] - ETA: 0s\n",
      "17252352/17464789 [============================>.] - ETA: 0s\n",
      "17358848/17464789 [============================>.] - ETA: 0s\n",
      "17448960/17464789 [============================>.] - ETA: 0s\n",
      "17465344/17464789 [==============================] - 48s    \n",
      "Loaded dataset with 25000 training samples, 25000 test samples\n"
     ]
    }
   ],
   "source": [
    "from keras.datasets import imdb  # import the built-in imdb dataset in Keras\n",
    "\n",
    "# Set the vocabulary size\n",
    "vocabulary_size = 5000\n",
    "\n",
    "# Load in training and test data (note the difference in convention compared to scikit-learn)\n",
    "(X_train, y_train), (X_test, y_test) = imdb.load_data(num_words=vocabulary_size)\n",
    "print(\"Loaded dataset with {} training samples, {} test samples\".format(len(X_train), len(X_test)))"
   ]
  },
  {
   "cell_type": "code",
   "execution_count": 36,
   "metadata": {},
   "outputs": [
    {
     "name": "stdout",
     "output_type": "stream",
     "text": [
      "--- Review ---\n",
      "[1, 4, 2, 716, 4, 65, 7, 4, 689, 4367, 2, 2343, 4804, 2, 2, 2, 2, 2315, 2, 2, 2, 2, 4, 2, 628, 2, 37, 9, 150, 4, 2, 4069, 11, 2909, 4, 2, 847, 313, 6, 176, 2, 9, 2, 138, 9, 4434, 19, 4, 96, 183, 26, 4, 192, 15, 27, 2, 799, 2, 2, 588, 84, 11, 4, 3231, 152, 339, 2, 42, 4869, 2, 2, 345, 4804, 2, 142, 43, 218, 208, 54, 29, 853, 659, 46, 4, 882, 183, 80, 115, 30, 4, 172, 174, 10, 10, 1001, 398, 1001, 1055, 526, 34, 3717, 2, 2, 2, 17, 4, 2, 1094, 871, 64, 85, 22, 2030, 1109, 38, 230, 9, 4, 4324, 2, 251, 2, 1034, 195, 301, 14, 16, 31, 7, 4, 2, 8, 783, 2, 33, 4, 2945, 103, 465, 2, 42, 845, 45, 446, 11, 1895, 19, 184, 76, 32, 4, 2, 207, 110, 13, 197, 4, 2, 16, 601, 964, 2152, 595, 13, 258, 4, 1730, 66, 338, 55, 2, 4, 550, 728, 65, 1196, 8, 1839, 61, 1546, 42, 2, 61, 602, 120, 45, 2, 6, 320, 786, 99, 196, 2, 786, 2, 4, 225, 4, 373, 1009, 33, 4, 130, 63, 69, 72, 1104, 46, 1292, 225, 14, 66, 194, 2, 1703, 56, 8, 803, 1004, 6, 2, 155, 11, 4, 2, 3231, 45, 853, 2029, 8, 30, 6, 117, 430, 19, 6, 2, 9, 15, 66, 424, 8, 2337, 178, 9, 15, 66, 424, 8, 1465, 178, 9, 15, 66, 142, 15, 9, 424, 8, 28, 178, 662, 44, 12, 17, 4, 130, 898, 1686, 9, 6, 2, 267, 185, 430, 4, 118, 2, 277, 15, 4, 1188, 100, 216, 56, 19, 4, 357, 114, 2, 367, 45, 115, 93, 788, 121, 4, 2, 79, 32, 68, 278, 39, 8, 818, 162, 4165, 237, 600, 7, 98, 306, 8, 157, 549, 628, 11, 6, 2, 13, 824, 15, 4104, 76, 42, 138, 36, 774, 77, 1059, 159, 150, 4, 229, 497, 8, 1493, 11, 175, 251, 453, 19, 2, 189, 12, 43, 127, 6, 394, 292, 7, 2, 4, 107, 8, 4, 2826, 15, 1082, 1251, 9, 906, 42, 1134, 6, 66, 78, 22, 15, 13, 244, 2519, 8, 135, 233, 52, 44, 10, 10, 466, 112, 398, 526, 34, 4, 1572, 4413, 2, 1094, 225, 57, 599, 133, 225, 6, 227, 7, 541, 4323, 6, 171, 139, 7, 539, 2, 56, 11, 6, 3231, 21, 164, 25, 426, 81, 33, 344, 624, 19, 6, 4617, 7, 2, 2, 6, 2, 4, 22, 9, 1082, 629, 237, 45, 188, 6, 55, 655, 707, 2, 956, 225, 1456, 841, 42, 1310, 225, 6, 2493, 1467, 2, 2828, 21, 4, 2, 9, 364, 23, 4, 2228, 2407, 225, 24, 76, 133, 18, 4, 189, 2293, 10, 10, 814, 11, 2, 11, 2642, 14, 47, 15, 682, 364, 352, 168, 44, 12, 45, 24, 913, 93, 21, 247, 2441, 4, 116, 34, 35, 1859, 8, 72, 177, 9, 164, 8, 901, 344, 44, 13, 191, 135, 13, 126, 421, 233, 18, 259, 10, 10, 4, 2, 2, 4, 2, 3074, 7, 112, 199, 753, 357, 39, 63, 12, 115, 2, 763, 8, 15, 35, 3282, 1523, 65, 57, 599, 6, 1916, 277, 1730, 37, 25, 92, 202, 6, 2, 44, 25, 28, 6, 22, 15, 122, 24, 4171, 72, 33, 32]\n",
      "--- Label ---\n",
      "0\n"
     ]
    }
   ],
   "source": [
    "# Inspect a sample review and its label\n",
    "print(\"--- Review ---\")\n",
    "print(X_train[7])\n",
    "print(\"--- Label ---\")\n",
    "print(y_train[7])"
   ]
  },
  {
   "cell_type": "markdown",
   "metadata": {},
   "source": [
    "Notice that the label is an integer (0 for negative, 1 for positive), and the review itself is stored as a sequence of integers. These are word IDs that have been preassigned to individual words. To map them back to the original words, you can use the dictionary returned by `imdb.get_word_index()`."
   ]
  },
  {
   "cell_type": "code",
   "execution_count": 37,
   "metadata": {},
   "outputs": [
    {
     "name": "stdout",
     "output_type": "stream",
     "text": [
      "Downloading data from https://s3.amazonaws.com/text-datasets/imdb_word_index.json\n",
      "\n",
      "   8192/1641221 [..............................] - ETA: 42s\n",
      "  24576/1641221 [..............................] - ETA: 27s\n",
      "  40960/1641221 [..............................] - ETA: 24s\n",
      "  57344/1641221 [>.............................] - ETA: 21s\n",
      "  90112/1641221 [>.............................] - ETA: 17s\n",
      " 106496/1641221 [>.............................] - ETA: 17s\n",
      " 139264/1641221 [=>............................] - ETA: 14s\n",
      " 196608/1641221 [==>...........................] - ETA: 12s\n",
      " 245760/1641221 [===>..........................] - ETA: 10s\n",
      " 319488/1641221 [====>.........................] - ETA: 8s \n",
      " 401408/1641221 [======>.......................] - ETA: 6s\n",
      " 507904/1641221 [========>.....................] - ETA: 5s\n",
      " 614400/1641221 [==========>...................] - ETA: 4s\n",
      " 737280/1641221 [============>.................] - ETA: 3s\n",
      " 860160/1641221 [==============>...............] - ETA: 2s\n",
      "1015808/1641221 [=================>............] - ETA: 2s\n",
      "1204224/1641221 [=====================>........] - ETA: 1s\n",
      "1376256/1641221 [========================>.....] - ETA: 0s\n",
      "1589248/1641221 [============================>.] - ETA: 0s\n",
      "1646592/1641221 [==============================] - 4s     \n",
      "--- Review (with words) ---\n",
      "['the', 'of', 'and', 'local', 'of', 'their', 'br', 'of', 'attention', 'widow', 'and', 'captures', 'parties', 'and', 'and', 'and', 'and', 'excitement', 'and', 'and', 'and', 'and', 'of', 'and', 'english', 'and', 'like', 'it', 'years', 'of', 'and', 'unintentional', 'this', 'hitchcock', 'of', 'and', 'learn', 'everyone', 'is', 'quite', 'and', 'it', 'and', 'such', 'it', 'bonus', 'film', 'of', 'too', 'seems', 'he', 'of', 'enough', 'for', 'be', 'and', 'editing', 'and', 'and', 'please', 'great', 'this', 'of', 'shoots', 'thing', '3', 'and', \"it's\", 'mentioning', 'and', 'and', 'given', 'parties', 'and', 'back', 'out', 'interesting', 'times', 'no', 'all', 'average', 'talking', 'some', 'of', 'nor', 'seems', 'into', 'best', 'at', 'of', 'every', 'cast', 'i', 'i', 'inside', 'keep', 'inside', 'large', 'viewer', 'who', 'obscure', 'and', 'and', 'and', 'movie', 'of', 'and', 'entirely', \"you've\", 'see', 'because', 'you', 'deals', 'successful', 'her', 'anything', 'it', 'of', 'dedicated', 'and', 'hard', 'and', 'further', \"that's\", 'takes', 'as', 'with', 'by', 'br', 'of', 'and', 'in', 'minute', 'and', 'they', 'of', 'westerns', 'watch', 'seemed', 'and', \"it's\", 'lee', 'if', 'oh', 'this', 'japan', 'film', 'around', 'get', 'an', 'of', 'and', 'always', 'life', 'was', 'between', 'of', 'and', 'with', 'group', 'rate', 'code', \"film's\", 'was', 'although', 'of', 'arts', 'had', 'death', 'time', 'and', 'of', 'anyway', 'romantic', 'their', 'won', 'in', 'kevin', 'only', 'flying', \"it's\", 'and', 'only', 'cut', 'show', 'if', 'and', 'is', 'star', 'stay', 'movies', 'both', 'and', 'stay', 'and', 'of', 'music', 'of', 'tell', 'missing', 'they', 'of', 'here', 'really', 'me', 'we', 'value', 'some', 'silent', 'music', 'as', 'had', 'thought', 'and', 'realized', 'she', 'in', 'sorry', 'reasons', 'is', 'and', '10', 'this', 'of', 'and', 'shoots', 'if', 'average', 'remembered', 'in', 'at', 'is', 'over', 'worse', 'film', 'is', 'and', 'it', 'for', 'had', 'absolutely', 'in', 'naive', 'want', 'it', 'for', 'had', 'absolutely', 'in', 'j', 'want', 'it', 'for', 'had', 'back', 'for', 'it', 'absolutely', 'in', 'one', 'want', 'shots', 'has', 'that', 'movie', 'of', 'here', 'write', 'whatsoever', 'it', 'is', 'and', 'set', 'got', 'worse', 'of', 'where', 'and', 'once', 'for', 'of', 'accent', 'after', 'saw', 'she', 'film', 'of', 'rest', 'little', 'and', 'camera', 'if', 'best', 'way', 'elements', 'know', 'of', 'and', 'also', 'an', 'were', 'sense', 'or', 'in', 'realistic', 'actually', 'satan', \"he's\", 'score', 'br', 'any', 'himself', 'in', 'another', 'type', 'english', 'this', 'is', 'and', 'was', 'tom', 'for', 'dating', 'get', \"it's\", 'such', 'from', 'fantastic', 'will', 'pace', 'new', 'years', 'of', 'guy', 'game', 'in', 'murders', 'this', 'us', 'hard', 'lives', 'film', 'and', 'fact', 'that', 'out', 'end', 'is', 'getting', 'together', 'br', 'and', 'of', 'seen', 'in', 'of', 'jail', 'for', 'sees', 'utterly', 'it', 'meet', \"it's\", 'depth', 'is', 'had', 'do', 'you', 'for', 'was', 'rather', 'convince', 'in', 'why', 'last', 'very', 'has', 'i', 'i', 'throughout', 'never', 'keep', 'viewer', 'who', 'of', 'becoming', 'switch', 'and', 'entirely', 'music', 'even', 'interest', 'scene', 'music', 'is', 'far', 'br', 'voice', 'riveting', 'is', 'again', 'something', 'br', 'decent', 'and', 'she', 'this', 'is', 'shoots', 'not', 'director', 'have', 'against', 'people', 'they', 'line', 'cinematography', 'film', 'is', 'couples', 'br', 'and', 'and', 'is', 'and', 'of', 'you', 'it', 'sees', 'hero', \"he's\", 'if', \"can't\", 'is', 'time', 'husband', 'silly', 'and', 'result', 'music', 'image', 'sequences', \"it's\", 'chase', 'music', 'is', 'veteran', 'include', 'and', 'freeman', 'not', 'of', 'and', 'it', 'along', 'are', 'of', 'hearing', 'cutting', 'music', 'his', 'get', 'scene', 'but', 'of', 'fact', 'correct', 'i', 'i', 'means', 'this', 'and', 'this', 'blockbuster', 'as', 'there', 'for', 'disappointed', 'along', 'wrong', 'few', 'has', 'that', 'if', 'his', 'weird', 'way', 'not', 'girl', 'display', 'of', 'love', 'who', 'so', 'friendship', 'in', 'we', 'down', 'it', 'director', 'in', 'situation', 'line', 'has', 'was', 'big', 'why', 'was', 'your', 'supposed', 'last', 'but', 'especially', 'i', 'i', 'of', 'and', 'and', 'of', 'and', 'internet', 'br', 'never', 'give', 'theme', 'rest', 'or', 'really', 'that', 'best', 'and', 'release', 'in', 'for', 'so', 'multi', 'random', 'their', 'even', 'interest', 'is', 'judge', 'once', 'arts', 'like', 'have', 'then', 'own', 'is', 'and', 'has', 'have', 'one', 'is', 'you', 'for', 'off', 'his', 'dutch', 'we', 'they', 'an']\n",
      "--- Label ---\n",
      "0\n"
     ]
    }
   ],
   "source": [
    "# Map word IDs back to words\n",
    "word2id = imdb.get_word_index()\n",
    "id2word = {i: word for word, i in word2id.items()}\n",
    "print(\"--- Review (with words) ---\")\n",
    "print([id2word.get(i, \" \") for i in X_train[7]])\n",
    "print(\"--- Label ---\")\n",
    "print(y_train[7])"
   ]
  },
  {
   "cell_type": "markdown",
   "metadata": {},
   "source": [
    "Unlike our Bag-of-Words approach, where we simply summarized the counts of each word in a document, this representation essentially retains the entire sequence of words (minus punctuation, stopwords, etc.). This is critical for RNNs to function. But it also means that now the features can be of different lengths!\n",
    "\n",
    "#### Question: Variable length reviews\n",
    "\n",
    "What is the maximum review length (in terms of number of words) in the training set? What is the minimum?\n",
    "\n",
    "#### Answer:\n",
    "\n",
    "...\n",
    "\n",
    "\n",
    "### TODO: Pad sequences\n",
    "\n",
    "In order to feed this data into your RNN, all input documents must have the same length. Let's limit the maximum review length to `max_words` by truncating longer reviews and padding shorter reviews with a null value (0). You can accomplish this easily using the [`pad_sequences()`](https://keras.io/preprocessing/sequence/#pad_sequences) function in Keras. For now, set `max_words` to 500."
   ]
  },
  {
   "cell_type": "code",
   "execution_count": null,
   "metadata": {
    "collapsed": true
   },
   "outputs": [],
   "source": [
    "from keras.preprocessing import sequence\n",
    "\n",
    "# Set the maximum number of words per document (for both training and testing)\n",
    "max_words = 500\n",
    "\n",
    "# TODO: Pad sequences in X_train and X_test\n"
   ]
  },
  {
   "cell_type": "markdown",
   "metadata": {},
   "source": [
    "### TODO: Design an RNN model for sentiment analysis\n",
    "\n",
    "Build your model architecture in the code cell below. We have imported some layers from Keras that you might need but feel free to use any other layers / transformations you like.\n",
    "\n",
    "Remember that your input is a sequence of words (technically, integer word IDs) of maximum length = `max_words`, and your output is a binary sentiment label (0 or 1)."
   ]
  },
  {
   "cell_type": "code",
   "execution_count": null,
   "metadata": {
    "collapsed": true
   },
   "outputs": [],
   "source": [
    "from keras.models import Sequential\n",
    "from keras.layers import Embedding, LSTM, Dense, Dropout\n",
    "\n",
    "# TODO: Design your model\n",
    "model = ?\n",
    "\n",
    "print(model.summary())"
   ]
  },
  {
   "cell_type": "markdown",
   "metadata": {},
   "source": [
    "#### Question: Architecture and parameters\n",
    "\n",
    "Briefly describe your neural net architecture. How many model parameters does it have that need to be trained?\n",
    "\n",
    "#### Answer:\n",
    "\n",
    "...\n",
    "\n",
    "### TODO: Train and evaluate your model\n",
    "\n",
    "Now you are ready to train your model. In Keras world, you first need to _compile_ your model by specifying the loss function and optimizer you want to use while training, as well as any evaluation metrics you'd like to measure. Specify the approprate parameters, including at least one metric `'accuracy'`."
   ]
  },
  {
   "cell_type": "code",
   "execution_count": null,
   "metadata": {
    "collapsed": true
   },
   "outputs": [],
   "source": [
    "# TODO: Compile your model, specifying a loss function, optimizer, and metrics\n"
   ]
  },
  {
   "cell_type": "markdown",
   "metadata": {},
   "source": [
    "Once compiled, you can kick off the training process. There are two important training parameters that you have to specify - **batch size** and **number of training epochs**, which together with your model architecture determine the total training time.\n",
    "\n",
    "Training may take a while, so grab a cup of coffee, or better, go for a hike! If possible, consider using a GPU, as a single training run can take several hours on a CPU.\n",
    "\n",
    "> **Tip**: You can split off a small portion of the training set to be used for validation during training. This will help monitor the training process and identify potential overfitting. You can supply a validation set to `model.fit()` using its `validation_data` parameter, or just specify `validation_split` - a fraction of the training data for Keras to set aside for this purpose (typically 5-10%). Validation metrics are evaluated once at the end of each epoch."
   ]
  },
  {
   "cell_type": "code",
   "execution_count": null,
   "metadata": {
    "collapsed": true
   },
   "outputs": [],
   "source": [
    "# TODO: Specify training parameters: batch size and number of epochs\n",
    "batch_size = ?\n",
    "num_epochs = ?\n",
    "\n",
    "# TODO(optional): Reserve/specify some training data for validation (not to be used for training)\n",
    "\n",
    "# TODO: Train your model\n"
   ]
  },
  {
   "cell_type": "code",
   "execution_count": null,
   "metadata": {
    "collapsed": true
   },
   "outputs": [],
   "source": [
    "# Save your model, so that you can quickly load it in future (and perhaps resume training)\n",
    "model_file = \"rnn_model.h5\"  # HDF5 file\n",
    "model.save(os.path.join(cache_dir, model_file))\n",
    "\n",
    "# Later you can load it using keras.models.load_model()\n",
    "#from keras.models import load_model\n",
    "#model = load_model(os.path.join(cache_dir, model_file))"
   ]
  },
  {
   "cell_type": "markdown",
   "metadata": {},
   "source": [
    "Once you have trained your model, it's time to see how well it performs on unseen test data."
   ]
  },
  {
   "cell_type": "code",
   "execution_count": null,
   "metadata": {
    "collapsed": true
   },
   "outputs": [],
   "source": [
    "# Evaluate your model on the test set\n",
    "scores = model.evaluate(X_test, y_test, verbose=0)  # returns loss and other metrics specified in model.compile()\n",
    "print(\"Test accuracy:\", scores[1])  # scores[1] should correspond to accuracy if you passed in metrics=['accuracy']"
   ]
  },
  {
   "cell_type": "markdown",
   "metadata": {},
   "source": [
    "#### Question: Comparing RNNs and Traditional Methods\n",
    "\n",
    "How well does your RNN model perform compared to the BoW + Gradient-Boosted Decision Trees?\n",
    "\n",
    "#### Answer:\n",
    "\n",
    "...\n",
    "\n",
    "## Extensions\n",
    "\n",
    "There are several ways in which you can build upon this notebook. Each comes with its set of challenges, but can be a rewarding experience.\n",
    "\n",
    "- The first thing is to try and improve the accuracy of your model by experimenting with different architectures, layers and parameters. How good can you get without taking prohibitively long to train? How do you prevent overfitting?\n",
    "\n",
    "- Then, you may want to deploy your model as a mobile app or web service. What do you need to do in order to package your model for such deployment? How would you accept a new review, convert it into a form suitable for your model, and perform the actual prediction? (Note that the same environment you used during training may not be available.)\n",
    "\n",
    "- One simplification we made in this notebook is to limit the task to binary classification. The dataset actually includes a more fine-grained review rating that is indicated in each review's filename (which is of the form `<[id]_[rating].txt>` where `[id]` is a unique identifier and `[rating]` is on a scale of 1-10; note that neutral reviews > 4 or < 7 have been excluded). How would you modify the notebook to perform regression on the review ratings? In what situations is regression more useful than classification, and vice-versa?\n",
    "\n",
    "Whatever direction you take, make sure to share your results and learnings with your peers, through blogs, discussions and participating in online competitions. This is also a great way to become more visible to potential employers!"
   ]
  },
  {
   "cell_type": "code",
   "execution_count": null,
   "metadata": {
    "collapsed": true
   },
   "outputs": [],
   "source": []
  }
 ],
 "metadata": {
  "kernelspec": {
   "display_name": "Python 3",
   "language": "python",
   "name": "python3"
  },
  "language_info": {
   "codemirror_mode": {
    "name": "ipython",
    "version": 3
   },
   "file_extension": ".py",
   "mimetype": "text/x-python",
   "name": "python",
   "nbconvert_exporter": "python",
   "pygments_lexer": "ipython3",
   "version": "3.6.2"
  }
 },
 "nbformat": 4,
 "nbformat_minor": 2
}
